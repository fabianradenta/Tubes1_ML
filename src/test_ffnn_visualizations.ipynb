{
 "cells": [
  {
   "cell_type": "code",
   "execution_count": null,
   "metadata": {
    "vscode": {
     "languageId": "plaintext"
    }
   },
   "outputs": [],
   "source": [
    "import numpy as np\n",
    "import matplotlib.pyplot as plt\n",
    "from sklearn.datasets import fetch_openml\n",
    "from sklearn.model_selection import train_test_split\n",
    "from sklearn.metrics import accuracy_score\n",
    "\n",
    "from ffnn import FFNN \n",
    "\n",
    "def load_mnist_dataset():\n",
    "    mnist = fetch_openml('mnist_784', version=1, as_frame=False, parser='auto')\n",
    "    X, y = mnist.data, mnist.target\n",
    "    X = X.astype('float32') / 255.0 \n",
    "    y = y.astype('int')\n",
    "    X_train, X_test, y_train, y_test = train_test_split(X, y, test_size=0.2, random_state=42)\n",
    "    y_train_onehot = np.eye(10)[y_train]\n",
    "    y_test_onehot = np.eye(10)[y_test]\n",
    "    return X_train, X_test, y_train, y_test, y_train_onehot, y_test_onehot\n",
    "\n",
    "def visualize_ffnn_structure(model):\n",
    "    print(\"Visualizing Network Structure...\")\n",
    "    model.visualize_network_structure(highlight_weights=True, highlight_gradients=False)\n",
    "\n",
    "def visualize_weight_distribution(model):\n",
    "    print(\"Visualizing Weight Distribution...\")\n",
    "    layers_to_visualize = range(len(model.layers)) \n",
    "    model.plot_weight_distribution(layers=layers_to_visualize)\n",
    "\n",
    "\n",
    "def visualize_gradient_distribution(model):\n",
    "    print(\"Visualizing Gradient Distribution...\")\n",
    "    layers_to_visualize = range(len(model.layers)) \n",
    "    model.plot_weight_gradient_distribution(layers=layers_to_visualize)\n",
    "\n",
    "def main():\n",
    "    X_train, X_test, y_train, y_test, y_train_onehot, y_test_onehot = load_mnist_dataset()\n",
    "\n",
    "    model = FFNN(\n",
    "        layer_sizes=[784, 128, 64, 10],\n",
    "        activation_func=['relu', 'relu', 'softmax'],\n",
    "        loss_func='cce',\n",
    "        weight_init='uniform',\n",
    "        learning_rate=0.01\n",
    "    )\n",
    "    print(\"Training FFNN...\")\n",
    "    model.train(X_train, y_train_onehot, X_test, y_test_onehot, epochs=10, batch_size=64, verbose=1)\n",
    "\n",
    "    visualize_ffnn_structure(model)\n",
    "\n",
    "    visualize_weight_distribution(model)\n",
    "\n",
    "    visualize_gradient_distribution(model)\n",
    "\n",
    "if __name__ == \"__main__\":\n",
    "    main()"
   ]
  }
 ],
 "metadata": {
  "kernelspec": {
   "display_name": "Python 3 (ipykernel)",
   "language": "python",
   "name": "python3"
  },
  "language_info": {
   "codemirror_mode": {
    "name": "ipython",
    "version": 3
   },
   "file_extension": ".py",
   "mimetype": "text/x-python",
   "name": "python",
   "nbconvert_exporter": "python",
   "pygments_lexer": "ipython3",
   "version": "3.13.2"
  }
 },
 "nbformat": 4,
 "nbformat_minor": 4
}
