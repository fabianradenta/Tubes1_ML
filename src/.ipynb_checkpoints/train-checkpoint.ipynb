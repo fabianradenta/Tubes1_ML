{
 "cells": [
  {
   "cell_type": "code",
   "execution_count": null,
   "metadata": {
    "vscode": {
     "languageId": "plaintext"
    }
   },
   "outputs": [],
   "source": [
    "import numpy as np\n",
    "from sklearn.datasets import fetch_openml\n",
    "from sklearn.model_selection import train_test_split\n",
    "from sklearn.preprocessing import OneHotEncoder\n",
    "import matplotlib.pyplot as plt\n",
    "\n",
    "from ffnn import FFNN  # Import your FFNN class\n",
    "\n",
    "# Load MNIST dataset\n",
    "mnist = fetch_openml('mnist_784', version=1)\n",
    "X = mnist.data.astype(np.float32) / 255.0  # Normalize\n",
    "y = mnist.target.astype(np.int32)\n",
    "\n",
    "# One-Hot Encoding for labels\n",
    "encoder = OneHotEncoder(sparse_output=False)\n",
    "y_onehot = encoder.fit_transform(y.reshape(-1, 1))\n",
    "\n",
    "# Split dataset into training and validation sets\n",
    "X_train, X_val, y_train, y_val = train_test_split(X, y_onehot, test_size=0.2, random_state=42)\n",
    "\n",
    "# Define architecture and activation functions\n",
    "layers = [784, 128, 64, 10]  # Example: input 784, two hidden layers, output 10\n",
    "activation_funcs = ['relu', 'relu', 'softmax']\n",
    "\n",
    "# Initialize the model\n",
    "model = FFNN(layer_sizes=layers, activation_func=activation_funcs, loss_func=\"cce\", weight_init=\"uniform\", learning_rate=0.01)\n",
    "\n",
    "# Train the model\n",
    "model.train(X_train, y_train, X_val, y_val, batch_size=64, epochs=10, verbose=1)\n",
    "\n",
    "# Plot training and validation loss\n",
    "plt.plot(model.history['train_loss'], label='Train Loss')\n",
    "if 'val_loss' in model.history and len(model.history['val_loss']) > 0:\n",
    "    plt.plot(model.history['val_loss'], label='Validation Loss')\n",
    "plt.xlabel('Epoch')\n",
    "plt.ylabel('Loss')\n",
    "plt.legend()\n",
    "plt.title('Training and Validation Loss')\n",
    "plt.show()\n",
    "\n",
    "# Test predictions on a few samples\n",
    "sample = X_val[:5]\n",
    "predictions = model.predict(sample)\n",
    "print(\"Predictions:\", predictions)"
   ]
  }
 ],
 "metadata": {
  "language_info": {
   "name": "python"
  }
 },
 "nbformat": 4,
 "nbformat_minor": 2
}
